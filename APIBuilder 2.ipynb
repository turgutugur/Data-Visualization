{
 "cells": [
  {
   "cell_type": "code",
   "execution_count": 1,
   "metadata": {},
   "outputs": [],
   "source": [
    "import requests\n",
    "import json\n",
    "import pymongo\n",
    "from key import key\n",
    "url = \"https://api-basketball.p.rapidapi.com/\"\n",
    "headers = {\n",
    "    \"X-RapidAPI-Host\": \"api-basketball.p.rapidapi.com\",\n",
    "    \"X-RapidAPI-Key\": key\n",
    "}"
   ]
  },
  {
   "cell_type": "code",
   "execution_count": 2,
   "metadata": {},
   "outputs": [],
   "source": [
    "conn = 'mongodb://localhost:27017'\n",
    "client = pymongo.MongoClient(conn)\n"
   ]
  },
  {
   "cell_type": "code",
   "execution_count": 3,
   "metadata": {},
   "outputs": [],
   "source": [
    "db = client.nba_db"
   ]
  },
  {
   "cell_type": "code",
   "execution_count": 5,
   "metadata": {
    "scrolled": false
   },
   "outputs": [],
   "source": [
    "seasons = ['2019-2020', '2020-2021', '2021-2022']\n",
    "collection = db.standings\n",
    "collection.delete_many({})\n",
    "for season in seasons:\n",
    "    params = f'standings?league=12&season={season}'\n",
    "    response = requests.get(url + params, headers=headers).json()\n",
    "\n",
    "    weststandings = {}\n",
    "    eaststandings = {}\n",
    "\n",
    "    for team in response[\"response\"][0]:\n",
    "\n",
    "        if team[\"group\"][\"name\"] == \"Western Conference\":\n",
    "            weststandings[team[\"team\"][\"name\"]] = {\"wins\": team[\"games\"][\"win\"][\"total\"],\n",
    "                                  \"losses\": team[\"games\"][\"lose\"][\"total\"], \"logo\": team[\"team\"][\"logo\"]}\n",
    "        if team[\"group\"][\"name\"] == \"Eastern Conference\":\n",
    "            eaststandings[team[\"team\"][\"name\"]] = {\"wins\": team[\"games\"][\"win\"][\"total\"],\n",
    "                                  \"losses\": team[\"games\"][\"lose\"][\"total\"], \"logo\" : team[\"team\"][\"logo\"]}\n",
    "    collection.insert_one({\"season\" : season, \"data\" : {\"weststandings\" : weststandings, \"eaststandings\": eaststandings}})\n",
    "\n"
   ]
  },
  {
   "cell_type": "code",
   "execution_count": 19,
   "metadata": {},
   "outputs": [],
   "source": [
    "idmap = {}\n",
    "for team in response[\"response\"][0]:\n",
    "    idmap[team[\"team\"][\"id\"]] = team[\"team\"][\"name\"]"
   ]
  },
  {
   "cell_type": "code",
   "execution_count": 20,
   "metadata": {},
   "outputs": [
    {
     "data": {
      "text/plain": [
       "{155: 'Phoenix Suns',\n",
       " 146: 'Memphis Grizzlies',\n",
       " 141: 'Golden State Warriors',\n",
       " 138: 'Dallas Mavericks',\n",
       " 139: 'Denver Nuggets',\n",
       " 160: 'Utah Jazz',\n",
       " 149: 'Minnesota Timberwolves',\n",
       " 144: 'Los Angeles Clippers',\n",
       " 150: 'New Orleans Pelicans',\n",
       " 158: 'San Antonio Spurs',\n",
       " 145: 'Los Angeles Lakers',\n",
       " 157: 'Sacramento Kings',\n",
       " 156: 'Portland Trail Blazers',\n",
       " 152: 'Oklahoma City Thunder',\n",
       " 142: 'Houston Rockets',\n",
       " 147: 'Miami Heat',\n",
       " 133: 'Boston Celtics',\n",
       " 148: 'Milwaukee Bucks',\n",
       " 154: 'Philadelphia 76ers',\n",
       " 159: 'Toronto Raptors',\n",
       " 136: 'Chicago Bulls',\n",
       " 137: 'Cleveland Cavaliers',\n",
       " 132: 'Atlanta Hawks',\n",
       " 134: 'Brooklyn Nets',\n",
       " 135: 'Charlotte Hornets',\n",
       " 151: 'New York Knicks',\n",
       " 161: 'Washington Wizards',\n",
       " 143: 'Indiana Pacers',\n",
       " 140: 'Detroit Pistons',\n",
       " 153: 'Orlando Magic'}"
      ]
     },
     "execution_count": 20,
     "metadata": {},
     "output_type": "execute_result"
    }
   ],
   "source": [
    "idmap"
   ]
  },
  {
   "cell_type": "code",
   "execution_count": 22,
   "metadata": {},
   "outputs": [],
   "source": [
    "collection = db.h2h\n",
    "for team1 in range(132, 162):\n",
    "    for team2 in range(team1 + 1, 162):\n",
    "        params = f\"/games?{team1}-{team2}\"\n",
    "        response = requests.get(url + params, headers=headers).json()[\"response\"]\n",
    "        collection.insert_one({f'{idmap[team1]}-{idmap[team2]}' : response})\n",
    "        "
   ]
  },
  {
   "cell_type": "code",
   "execution_count": 4,
   "metadata": {},
   "outputs": [],
   "source": [
    "with open('player_stats.json') as file:\n",
    "    file_data = json.load(file)"
   ]
  },
  {
   "cell_type": "code",
   "execution_count": 7,
   "metadata": {},
   "outputs": [
    {
     "data": {
      "text/plain": [
       "<pymongo.results.InsertManyResult at 0x1ae72db5248>"
      ]
     },
     "execution_count": 7,
     "metadata": {},
     "output_type": "execute_result"
    }
   ],
   "source": [
    "collection = db.player_data\n",
    "collection.insert_many(file_data)"
   ]
  },
  {
   "cell_type": "code",
   "execution_count": null,
   "metadata": {},
   "outputs": [],
   "source": []
  }
 ],
 "metadata": {
  "kernelspec": {
   "display_name": "Python [conda env:pythondata] *",
   "language": "python",
   "name": "conda-env-pythondata-py"
  },
  "language_info": {
   "codemirror_mode": {
    "name": "ipython",
    "version": 3
   },
   "file_extension": ".py",
   "mimetype": "text/x-python",
   "name": "python",
   "nbconvert_exporter": "python",
   "pygments_lexer": "ipython3",
   "version": "3.6.10"
  }
 },
 "nbformat": 4,
 "nbformat_minor": 4
}
